{
 "cells": [
  {
   "cell_type": "code",
   "execution_count": 21,
   "metadata": {},
   "outputs": [
    {
     "name": "stdout",
     "output_type": "stream",
     "text": [
      " Enter first number : 3\n",
      " Enter second number : 4\n",
      "Following operations are performed over the given input\n",
      "Sum =7\n",
      "Difference =1\n",
      "Product =12\n",
      "Division =1.3333333333333333\n",
      "Cube of  64  =  64\n",
      "Cube of  27  =  27\n"
     ]
    }
   ],
   "source": [
    "def calculate(a,b):        #function recieving value from decorator function\n",
    "    add= a+b \n",
    "    subs= a-b\n",
    "    product= a*b\n",
    "    div= a/b\n",
    "\n",
    "    print(\"Sum =\" + format(add))\n",
    "    print(\"Difference =\" + format(subs))\n",
    "    print(\"Product =\" + format(product))\n",
    "    print(\"Division =\" + format(div))\n",
    "     \n",
    "def smart_cal(func):     #it is executed first by swaping values if satisfying the condition \n",
    "    def new_features(a,b):\n",
    "        print(\"Following operations are performed over the given input\")\n",
    "        if a<b:\n",
    "            a,b = b,a\n",
    "            return func(a,b)\n",
    "        else:\n",
    "            return func(a,b)\n",
    "    return new_features\n",
    "\n",
    "a= int(input(\" Enter first number : \"))\n",
    "b= int(input(\" Enter second number : \"))\n",
    "\n",
    "calculate1= smart_cal(calculate)\n",
    "calculate1(a,b)"
   ]
  },
  {
   "cell_type": "code",
   "execution_count": 46,
   "metadata": {},
   "outputs": [
    {
     "name": "stdout",
     "output_type": "stream",
     "text": [
      " Input the coefficients of a quadratic equation \n",
      " Enter value of a : 1\n",
      " Enter value of b : 5\n",
      " Enter value of c : 0\n",
      " First Root =  0.0\n",
      " Second Root =  -5.0\n"
     ]
    }
   ],
   "source": [
    "import math\n",
    "\n",
    "def roots(a,b,c):\n",
    "    d = (b*b) - (4*a*c)\n",
    "    r1 = float((-b + math.sqrt(d))/(2*a))\n",
    "    r2 = (-b - math.sqrt(d))/(2*a)\n",
    "    print(\" First Root = \", r1)\n",
    "    print(\" Second Root = \", r2)\n",
    "    \n",
    "def smart_roots(func1):\n",
    "    def inner(a,b,c):\n",
    "        if b<a and b<c:\n",
    "            print(\" Imaginary Roots \")\n",
    "            return func1(a,b,c)\n",
    "        elif a==0 :\n",
    "            print(\" Infinite Roots \")\n",
    "            return func1(a,b,c)\n",
    "        else:\n",
    "            return func1(a,b,c)\n",
    "    return inner \n",
    "    \n",
    "print(\" Input the coefficients of a quadratic equation \")\n",
    "a= int(input( \" Enter value of a : \"))\n",
    "b= int(input( \" Enter value of b : \"))\n",
    "c= int(input( \" Enter value of c : \"))\n",
    "\n",
    "roots1= smart_roots(roots)\n",
    "roots1(a,b,c)"
   ]
  }
 ],
 "metadata": {
  "kernelspec": {
   "display_name": "Python 3",
   "language": "python",
   "name": "python3"
  },
  "language_info": {
   "codemirror_mode": {
    "name": "ipython",
    "version": 3
   },
   "file_extension": ".py",
   "mimetype": "text/x-python",
   "name": "python",
   "nbconvert_exporter": "python",
   "pygments_lexer": "ipython3",
   "version": "3.7.6"
  }
 },
 "nbformat": 4,
 "nbformat_minor": 4
}
