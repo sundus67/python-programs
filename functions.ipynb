{
 "cells": [
  {
   "cell_type": "code",
   "execution_count": 6,
   "metadata": {},
   "outputs": [
    {
     "name": "stdout",
     "output_type": "stream",
     "text": [
      " Enter your first number : 45\n",
      " Enter your second number : 34\n",
      " Press 1 to add, 2 to substract , 3 for product and 4 for division :) \n",
      " Decide if you want to add, subs, product or divide the two numbers : 2\n",
      "45 - 34 = 11\n"
     ]
    }
   ],
   "source": [
    "def add(a,b):\n",
    "    result= a+b\n",
    "    print(format(a)+ \" + \"+ format(b)+ \" = \"+ format(result))\n",
    "def subs(a,b):\n",
    "    result= a-b\n",
    "    print(format(a)+ \" - \"+ format(b)+ \" = \"+ format(result))\n",
    "def product(a,b):\n",
    "    result= a*b\n",
    "    print(format(a)+ \" * \"+ format(b)+ \" = \"+ format(result))\n",
    "def divide(a,b):\n",
    "    result= a/b\n",
    "    print(format(a)+ \" / \"+ format(b)+ \" = \"+ format(result))\n",
    "\n",
    "\n",
    "num1 = int( input ( \" Enter your first number : \"))\n",
    "num2 = int( input ( \" Enter your second number : \"))\n",
    "print(\" Press 1 to add, 2 to substract , 3 for product and 4 for division :) \")\n",
    "inp = int(input( \" Decide if you want to add, subs, product or divide the two numbers : \"))\n",
    "\n",
    "if inp== 1:\n",
    "    add(num1 , num2)\n",
    "elif inp == 2:\n",
    "    subs(num1 , num2)\n",
    "elif inp == 3:\n",
    "    product(num1 , num2)\n",
    "elif inp == 4:\n",
    "    divide(num1 , num2)\n",
    "else: \n",
    "    print( \" Wrong input :/ :)\")"
   ]
  },
  {
   "cell_type": "code",
   "execution_count": 9,
   "metadata": {},
   "outputs": [
    {
     "name": "stdout",
     "output_type": "stream",
     "text": [
      " Enter a number : 5\n",
      " Square : 25\n",
      " Cube : 125\n"
     ]
    }
   ],
   "source": [
    "def square(a):\n",
    "    result= a*a \n",
    "    print ( \" Square : \"+ format(result))\n",
    "def cube(a):\n",
    "    result= a*a*a \n",
    "    print ( \" Cube : \"+ format(result))\n",
    "num = int(input(\" Enter a number : \"))\n",
    "square(num)\n",
    "cube(num)\n"
   ]
  },
  {
   "cell_type": "code",
   "execution_count": null,
   "metadata": {},
   "outputs": [],
   "source": []
  }
 ],
 "metadata": {
  "kernelspec": {
   "display_name": "Python 3",
   "language": "python",
   "name": "python3"
  },
  "language_info": {
   "codemirror_mode": {
    "name": "ipython",
    "version": 3
   },
   "file_extension": ".py",
   "mimetype": "text/x-python",
   "name": "python",
   "nbconvert_exporter": "python",
   "pygments_lexer": "ipython3",
   "version": "3.7.6"
  }
 },
 "nbformat": 4,
 "nbformat_minor": 4
}
