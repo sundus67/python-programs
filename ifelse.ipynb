{
 "cells": [
  {
   "cell_type": "code",
   "execution_count": 7,
   "metadata": {},
   "outputs": [
    {
     "name": "stdout",
     "output_type": "stream",
     "text": [
      " Enter first number : -3\n",
      "-3 is negative number \n"
     ]
    }
   ],
   "source": [
    "val1 = int(input(\" Enter first number : \"))       #identifing positive or negaative integer\n",
    "if val1 >0 :\n",
    "    print(format(val1) +\" is a positive number \")\n",
    "elif val1<0 :\n",
    "    print ( format(val1)+ \" is negative number \")\n",
    "else :\n",
    "    print(format(val1) + \" is zero \")\n",
    "#print()"
   ]
  },
  {
   "cell_type": "code",
   "execution_count": 12,
   "metadata": {},
   "outputs": [
    {
     "name": "stdout",
     "output_type": "stream",
     "text": [
      " Enter first number : 0\n",
      " Enter second number : -1\n",
      " Enter third number : -8\n",
      "0 is the greatest. \n"
     ]
    }
   ],
   "source": [
    "num1 = int(input(\" Enter first number : \"))      #greatest number beteen 3 inputs \n",
    "\n",
    "num2 = int(input(\" Enter second number : \"))\n",
    "num3 = int(input(\" Enter third number : \"))\n",
    "\n",
    "if num1 > num2 and num1> num3:\n",
    "    print(format(num1) +\" is the greatest. \")\n",
    "elif num2 > num1 and num2 > num3 :\n",
    "    print(format(num2) +\" is the greatest. \")\n",
    "else:\n",
    "    print(format(num3) + \" is the greatest. \")"
   ]
  },
  {
   "cell_type": "code",
   "execution_count": 1,
   "metadata": {},
   "outputs": [
    {
     "name": "stdout",
     "output_type": "stream",
     "text": [
      " Enter a number : 2\n",
      "2 Even Number \n"
     ]
    }
   ],
   "source": [
    "num = int(input(\" Enter a number : \"))      #input number is either even or odd\n",
    "if num%2 == 0 :\n",
    "    print( format(num)+ \" Even Number \")\n",
    "elif num %2 != 0 :\n",
    "    print(format(num)+ \" Odd Number \")"
   ]
  },
  {
   "cell_type": "code",
   "execution_count": 24,
   "metadata": {},
   "outputs": [
    {
     "name": "stdout",
     "output_type": "stream",
     "text": [
      " Enter a number : 5\n",
      " Factorial of 5 = 120\n"
     ]
    }
   ],
   "source": [
    "fact= 1\n",
    "num = int(input(\" Enter a number : \"))      #factorial of a number \n",
    "if num == 0 :\n",
    "    print( \" Factorial of \"+ format(num) + \" =1 \")\n",
    "elif num == 1 :\n",
    "    print( \" Factorial of \"+ format(num) + \" =1 \")\n",
    "else :\n",
    "    for i in range(num, 1 , -1):\n",
    "        fact = fact *i \n",
    "    print( \" Factorial of \"+ format(num) + \" = \" + format(fact))"
   ]
  },
  {
   "cell_type": "code",
   "execution_count": null,
   "metadata": {},
   "outputs": [],
   "source": []
  },
  {
   "cell_type": "markdown",
   "metadata": {},
   "source": []
  }
 ],
 "metadata": {
  "kernelspec": {
   "display_name": "Python 3",
   "language": "python",
   "name": "python3"
  },
  "language_info": {
   "codemirror_mode": {
    "name": "ipython",
    "version": 3
   },
   "file_extension": ".py",
   "mimetype": "text/x-python",
   "name": "python",
   "nbconvert_exporter": "python",
   "pygments_lexer": "ipython3",
   "version": "3.7.6"
  }
 },
 "nbformat": 4,
 "nbformat_minor": 4
}
