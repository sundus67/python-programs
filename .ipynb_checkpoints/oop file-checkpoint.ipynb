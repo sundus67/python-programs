{
 "cells": [
  {
   "cell_type": "code",
   "execution_count": 1,
   "metadata": {},
   "outputs": [
    {
     "name": "stdout",
     "output_type": "stream",
     "text": [
      "1.They are mostly in black,white,grey and brown in color\n",
      "2.Cats eat chickens\n",
      "3. They drink milk.\n",
      "1.They are mostly in black,white brown in color\n",
      "2.Dogs eat chickens \n",
      "3.They donot drink milk.\n"
     ]
    }
   ],
   "source": [
    "class features:\n",
    "    def cats(self):\n",
    "        print(\"1.They are mostly in black,white,grey and brown in color\")\n",
    "        print(\"2.Cats eat chickens\")\n",
    "        print(\"3. They drink milk.\")\n",
    "    def dogs(self):    \n",
    "        print(\"1.They are mostly in black,white brown in color\")\n",
    "        print(\"2.Dogs eat chickens \")\n",
    "        print(\"3.They donot drink milk.\")\n",
    "cat=features()\n",
    "dog=features()\n",
    "\n",
    "cat.cats()\n",
    "dog.dogs()"
   ]
  },
  {
   "cell_type": "code",
   "execution_count": 2,
   "metadata": {},
   "outputs": [
    {
     "name": "stdout",
     "output_type": "stream",
     "text": [
      " Employee id :  18\n",
      " Employee name :  sundus\n",
      " Employee department :  csit\n",
      " Employee year :  2018\n",
      " Employee id :  24\n",
      " Employee name :  dua\n",
      " Employee department :  csit\n",
      " Employee year :  2018\n"
     ]
    }
   ],
   "source": [
    "class employee:     #a class is defined with input data and just displaying it\n",
    "    def __init__(self,emp_id, emp_name, emp_department, emp_year):\n",
    "        self.id = emp_id\n",
    "        self.name= emp_name\n",
    "        self.department= emp_department\n",
    "        self.year = emp_year\n",
    "    def emp_data(self):\n",
    "        print(\" Employee id : \" , self.id)\n",
    "        print(\" Employee name : \" , self.name)\n",
    "        print(\" Employee department : \" , self.department)\n",
    "        print(\" Employee year : \" , self.year)\n",
    "\n",
    "obj1 = employee(18, \"sundus\", \"csit\", 2018)    #two objects are defined of type employee classsss\n",
    "obj2 = employee( 24, \"dua\", \"csit\", 2018)\n",
    "\n",
    "obj1.emp_data( )\n",
    "obj2.emp_data( )"
   ]
  },
  {
   "cell_type": "code",
   "execution_count": 3,
   "metadata": {},
   "outputs": [
    {
     "name": "stdout",
     "output_type": "stream",
     "text": [
      " enter num: 5\n",
      " Factorial of 5 = 120\n",
      " enter num: 6\n",
      " Factorial of 6 = 720\n",
      " enter num: 4\n",
      " Factorial of 4 = 24\n"
     ]
    }
   ],
   "source": [
    "class factorial:\n",
    "    \n",
    "    def __init__(self,a):\n",
    "        self.a = a\n",
    "        \n",
    "    def inp(self):\n",
    "        self.a = int(input(\" enter num: \"))\n",
    "        \n",
    "    def fact(self): \n",
    "        fact= 1\n",
    "         #factorial of a number \n",
    "        if self.a == 0 :\n",
    "            print( \" Factorial of \"+ format(self.a) + \" =1 \")\n",
    "        elif self.a == 1 :\n",
    "            print( \" Factorial of \"+ format(self.a) + \" =1 \")\n",
    "        else :\n",
    "            for i in range(self.a, 1 , -1):\n",
    "                fact = fact *i \n",
    "            print( \" Factorial of \"+ format(self.a) + \" = \" + format(fact))\n",
    "        \n",
    "obj1= factorial(0)\n",
    "obj2= factorial(0)\n",
    "obj3= factorial(0)\n",
    "\n",
    "obj1.inp()\n",
    "obj1.fact()\n",
    "\n",
    "obj2.inp()\n",
    "obj2.fact()\n",
    "\n",
    "obj3.inp()\n",
    "obj3.fact()\n"
   ]
  },
  {
   "cell_type": "code",
   "execution_count": null,
   "metadata": {},
   "outputs": [],
   "source": []
  }
 ],
 "metadata": {
  "kernelspec": {
   "display_name": "Python 3",
   "language": "python",
   "name": "python3"
  },
  "language_info": {
   "codemirror_mode": {
    "name": "ipython",
    "version": 3
   },
   "file_extension": ".py",
   "mimetype": "text/x-python",
   "name": "python",
   "nbconvert_exporter": "python",
   "pygments_lexer": "ipython3",
   "version": "3.7.6"
  }
 },
 "nbformat": 4,
 "nbformat_minor": 4
}
