{
 "cells": [
  {
   "cell_type": "code",
   "execution_count": 8,
   "metadata": {},
   "outputs": [
    {
     "name": "stdout",
     "output_type": "stream",
     "text": [
      " A-ONE GRADE : [98, 89, 80]\n",
      " FAILED: [19, 34, 10, 30]\n",
      " FIRST POSITION : [True, False, False]\n",
      " SECOND POSITION : [False, True, False]\n",
      " THIRD POSITION : [False, False, True]\n"
     ]
    }
   ],
   "source": [
    "\n",
    "marks = [ 55, 19, 67, 98, 34, 46 , 67,89, 53, 10, 80, 30]\n",
    "a1_grade = list(filter( lambda a: a>=80, marks))\n",
    "fail = list( filter( lambda a: a<40 , marks ))\n",
    "print(\" A-ONE GRADE : \"+format(a1_grade))\n",
    "print (\" FAILED: \"+ format(fail) )\n",
    "\n",
    "first = list(map(lambda a: a>95 , a1_grade))\n",
    "second =  list(map(lambda a: a>85 and a<90 , a1_grade))\n",
    "third= list(map(lambda a: a>=80 and a<90 and a<85, a1_grade))\n",
    "\n",
    "print( \" FIRST POSITION : \"+ format(first))\n",
    "print( \" SECOND POSITION : \"+ format(second))\n",
    "print( \" THIRD POSITION : \"+ format(third))"
   ]
  },
  {
   "cell_type": "code",
   "execution_count": 4,
   "metadata": {},
   "outputs": [
    {
     "name": "stdout",
     "output_type": "stream",
     "text": [
      " Input list :  [25, 86, 55, 18, 90, 36, 89, 70, 24]\n",
      " Even List :  [86, 18, 90, 36, 70, 24]\n",
      " Odd list made from Even lists :  [87, 19, 91, 37, 71, 25]\n"
     ]
    }
   ],
   "source": [
    "num_list = [25,86,55,18,90,36,89,70,24]\n",
    "print(\" Input list : \", num_list )\n",
    "even_list = list(filter(lambda a: a%2 == 0 , num_list))\n",
    "print(\" Even List : \" ,even_list )\n",
    "odd_list= list( map(lambda a : a+1 ,even_list))\n",
    "print(\" Odd list made from Even lists : \" , odd_list)"
   ]
  },
  {
   "cell_type": "code",
   "execution_count": null,
   "metadata": {},
   "outputs": [],
   "source": []
  }
 ],
 "metadata": {
  "kernelspec": {
   "display_name": "Python 3",
   "language": "python",
   "name": "python3"
  },
  "language_info": {
   "codemirror_mode": {
    "name": "ipython",
    "version": 3
   },
   "file_extension": ".py",
   "mimetype": "text/x-python",
   "name": "python",
   "nbconvert_exporter": "python",
   "pygments_lexer": "ipython3",
   "version": "3.7.6"
  }
 },
 "nbformat": 4,
 "nbformat_minor": 4
}
