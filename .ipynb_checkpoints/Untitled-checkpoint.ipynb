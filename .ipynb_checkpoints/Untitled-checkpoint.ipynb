{
 "cells": [
  {
   "cell_type": "code",
   "execution_count": 7,
   "metadata": {},
   "outputs": [
    {
     "name": "stdout",
     "output_type": "stream",
     "text": [
      " Enter first number : 2\n",
      " Enter second number : 4\n"
     ]
    }
   ],
   "source": [
    "def calculate(a,b):\n",
    "    sum= a+b \n",
    "    subs= a-b\n",
    "    product= a*b\n",
    "    div= a/b\n",
    "    print(\"Sum =\" + format(sum))\n",
    "    print(\"Sum =\" + format(subs))\n",
    "    print(\"Sum =\" + format(product))\n",
    "    print(\"Sum =\" + format(div))\n",
    "\n",
    "def smart_cal(func):\n",
    "    def new_features(a,b):\n",
    "        print(\"Following operations are performed over the given input\")\n",
    "        func()\n",
    "        if a>b:\n",
    "            print(format(a)+ \" is greater than \" + format(b))\n",
    "        else:\n",
    "            print(format(b)+ \" is greater than \" + format(a))\n",
    "        return new_features()\n",
    "\n",
    "a= int(input(\" Enter first number : \"))\n",
    "b= int(input(\" Enter second number : \"))\n",
    "\n",
    "calculate= smart_cal(calculate)\n",
    "calculate()"
   ]
  },
  {
   "cell_type": "code",
   "execution_count": null,
   "metadata": {},
   "outputs": [],
   "source": []
  },
  {
   "cell_type": "code",
   "execution_count": null,
   "metadata": {},
   "outputs": [],
   "source": []
  }
 ],
 "metadata": {
  "kernelspec": {
   "display_name": "Python 3",
   "language": "python",
   "name": "python3"
  },
  "language_info": {
   "codemirror_mode": {
    "name": "ipython",
    "version": 3
   },
   "file_extension": ".py",
   "mimetype": "text/x-python",
   "name": "python",
   "nbconvert_exporter": "python",
   "pygments_lexer": "ipython3",
   "version": "3.7.6"
  }
 },
 "nbformat": 4,
 "nbformat_minor": 4
}
